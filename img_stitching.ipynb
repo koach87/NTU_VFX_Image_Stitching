{
 "cells": [
  {
   "cell_type": "code",
   "execution_count": 1,
   "metadata": {},
   "outputs": [],
   "source": [
    "import cv2\n",
    "import numpy as np\n",
    "import os"
   ]
  },
  {
   "cell_type": "code",
   "execution_count": 2,
   "metadata": {},
   "outputs": [],
   "source": [
    "# show img for testing\n",
    "def show_image_by_OpenCV(img):\n",
    "    cv2.imshow('My Image', img )\n",
    "    cv2.waitKey(0)\n",
    "    cv2.destroyAllWindows()"
   ]
  },
  {
   "cell_type": "code",
   "execution_count": 3,
   "metadata": {},
   "outputs": [],
   "source": [
    "def load_images_from_folder(folder):\n",
    "    images = []\n",
    "    for filename in os.listdir(folder):\n",
    "        img = cv2.imread(os.path.join(folder,filename))\n",
    "        if img is not None:\n",
    "            images.append(img)\n",
    "    return images"
   ]
  },
  {
   "cell_type": "code",
   "execution_count": 4,
   "metadata": {},
   "outputs": [],
   "source": [
    "def detect_Harris_corner(image):\n",
    "    # parameters\n",
    "    KERNEL_SIZE = 5\n",
    "    THRESHOLD = 4000\n",
    "    K = 0.04\n",
    "\n",
    "    #  1. Compute x and y derivatives of image.\n",
    "    # rgb to grayscale\n",
    "    Gray_img = cv2.cvtColor(image, cv2.COLOR_RGB2GRAY) \n",
    "    # gaussion : to do small smooth\n",
    "    Gau_img = cv2.GaussianBlur(Gray_img, (3,3),3)\n",
    "    # gradient\n",
    "    I_x = np.gradient(Gau_img, axis=1) \n",
    "    I_y = np.gradient(Gau_img, axis=0) \n",
    "\n",
    "\n",
    "    # 2. Compute products of derivates at each pixel.\n",
    "    I_xx = I_x * I_x\n",
    "    I_yy = I_y * I_y\n",
    "    I_xy = I_x * I_y\n",
    "\n",
    "    # 3. Compute the sums of the products of derivates at each pixel.\n",
    "    # weight : use gaussian\n",
    "    S_xx = cv2.GaussianBlur(I_xx, (KERNEL_SIZE,KERNEL_SIZE),KERNEL_SIZE)\n",
    "    S_yy = cv2.GaussianBlur(I_yy, (KERNEL_SIZE,KERNEL_SIZE),KERNEL_SIZE)\n",
    "    S_xy = cv2.GaussianBlur(I_xy, (KERNEL_SIZE,KERNEL_SIZE),KERNEL_SIZE)\n",
    "    \n",
    "    # 4. Define the matrix M.\n",
    "    # | S_xx  S_xy |\n",
    "    # | S_xy  S_yy |\n",
    "\n",
    "    # 5. Compute the response of the detector at each pixel\n",
    "    detM = S_xx * S_yy - S_xy * S_xy\n",
    "    traceM = S_xx + S_yy\n",
    "    R = detM - K * (traceM * traceM)\n",
    "\n",
    "    # 6. Threshold on value of R\n",
    "    R[R < THRESHOLD] = 0\n",
    "    R[R > 0] = 255\n",
    "    \n",
    "    # return images\n",
    "    return R\n",
    "        "
   ]
  },
  {
   "cell_type": "code",
   "execution_count": 5,
   "metadata": {},
   "outputs": [],
   "source": [
    "a = load_images_from_folder('img/csie')\n",
    "R = detect_Harris_corner(a[0])"
   ]
  },
  {
   "cell_type": "code",
   "execution_count": 6,
   "metadata": {},
   "outputs": [],
   "source": [
    "show_image_by_OpenCV(R)"
   ]
  },
  {
   "cell_type": "code",
   "execution_count": null,
   "metadata": {},
   "outputs": [],
   "source": []
  }
 ],
 "metadata": {
  "interpreter": {
   "hash": "06e30d277152b04c77de2258da9de4149228d00c6960d1c62da5d7e3583d03ee"
  },
  "kernelspec": {
   "display_name": "Python 3.8.8 64-bit",
   "language": "python",
   "name": "python3"
  },
  "language_info": {
   "codemirror_mode": {
    "name": "ipython",
    "version": 3
   },
   "file_extension": ".py",
   "mimetype": "text/x-python",
   "name": "python",
   "nbconvert_exporter": "python",
   "pygments_lexer": "ipython3",
   "version": "3.8.8"
  },
  "orig_nbformat": 4
 },
 "nbformat": 4,
 "nbformat_minor": 2
}
