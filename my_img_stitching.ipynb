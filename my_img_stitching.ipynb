{
 "cells": [
  {
   "cell_type": "code",
   "execution_count": 1,
   "metadata": {},
   "outputs": [],
   "source": [
    "import cv2\n",
    "import numpy as np\n",
    "import os\n",
    "import glob"
   ]
  },
  {
   "cell_type": "markdown",
   "metadata": {},
   "source": [
    "Parameters"
   ]
  },
  {
   "cell_type": "code",
   "execution_count": 22,
   "metadata": {},
   "outputs": [],
   "source": [
    "# focal length\n",
    "f = 668\n",
    "# cylinder radius, it's much better to use focal length\n",
    "s = f\n"
   ]
  },
  {
   "cell_type": "code",
   "execution_count": 3,
   "metadata": {},
   "outputs": [],
   "source": [
    "imgspath = glob.glob(os.path.join('img/gym/2-1','*.jpg'))\n",
    "imgs = [cv2.imread(i) for i in imgspath]"
   ]
  },
  {
   "cell_type": "code",
   "execution_count": 43,
   "metadata": {},
   "outputs": [
    {
     "data": {
      "text/plain": [
       "(3264, 4912)"
      ]
     },
     "execution_count": 43,
     "metadata": {},
     "output_type": "execute_result"
    }
   ],
   "source": [
    "img = imgs[0]\n",
    "new_img = np.zeros(img.shape)\n",
    "project_index = np.zeros(img.shape[0:2])\n",
    "project_index.shape"
   ]
  },
  {
   "cell_type": "code",
   "execution_count": 45,
   "metadata": {},
   "outputs": [
    {
     "ename": "TypeError",
     "evalue": "'builtin_function_or_method' object is not subscriptable",
     "output_type": "error",
     "traceback": [
      "\u001b[1;31m---------------------------------------------------------------------------\u001b[0m",
      "\u001b[1;31mTypeError\u001b[0m                                 Traceback (most recent call last)",
      "\u001b[1;32mc:\\Users\\HanWen\\Downloads\\NTU_VFX_Image_Stitching-main\\NTU_VFX_Image_Stitching-main\\my_img_stitching.ipynb Cell 6'\u001b[0m in \u001b[0;36m<cell line: 1>\u001b[1;34m()\u001b[0m\n\u001b[1;32m----> <a href='vscode-notebook-cell:/c%3A/Users/HanWen/Downloads/NTU_VFX_Image_Stitching-main/NTU_VFX_Image_Stitching-main/my_img_stitching.ipynb#ch0000011?line=0'>1</a>\u001b[0m a \u001b[39m=\u001b[39m np\u001b[39m.\u001b[39;49marray[[\u001b[39m0\u001b[39;49m,\u001b[39m0\u001b[39;49m], [\u001b[39m0\u001b[39;49m,\u001b[39m1\u001b[39;49m], [\u001b[39m0\u001b[39;49m,\u001b[39m2\u001b[39;49m]]\n\u001b[0;32m      <a href='vscode-notebook-cell:/c%3A/Users/HanWen/Downloads/NTU_VFX_Image_Stitching-main/NTU_VFX_Image_Stitching-main/my_img_stitching.ipynb#ch0000011?line=1'>2</a>\u001b[0m \u001b[39mdef\u001b[39;00m \u001b[39mfunc\u001b[39m(a,b):\n\u001b[0;32m      <a href='vscode-notebook-cell:/c%3A/Users/HanWen/Downloads/NTU_VFX_Image_Stitching-main/NTU_VFX_Image_Stitching-main/my_img_stitching.ipynb#ch0000011?line=2'>3</a>\u001b[0m     a\u001b[39m+\u001b[39m\u001b[39m=\u001b[39m\u001b[39m1\u001b[39m\n",
      "\u001b[1;31mTypeError\u001b[0m: 'builtin_function_or_method' object is not subscriptable"
     ]
    }
   ],
   "source": [
    "a = np.array[[0,0], [0,1], [0,2]]\n",
    "def func(a,b):\n",
    "    a+=1\n",
    "    b+=1\n",
    "    return (a,b)"
   ]
  },
  {
   "cell_type": "code",
   "execution_count": 37,
   "metadata": {},
   "outputs": [
    {
     "data": {
      "text/plain": [
       "array([   0,    1,    2, ..., 4909, 4910, 4911])"
      ]
     },
     "execution_count": 37,
     "metadata": {},
     "output_type": "execute_result"
    }
   ],
   "source": [
    "img = imgs[0]\n",
    "new_img = np.zeros(img.shape)\n",
    "\n",
    "x_index = np.arange(img.shape[1])\n",
    "y_index = np.arange(img.shape[0])\n",
    "x_index"
   ]
  },
  {
   "cell_type": "code",
   "execution_count": 39,
   "metadata": {},
   "outputs": [
    {
     "ename": "ValueError",
     "evalue": "operands could not be broadcast together with shapes (3264,) (4912,) ",
     "output_type": "error",
     "traceback": [
      "\u001b[1;31m---------------------------------------------------------------------------\u001b[0m",
      "\u001b[1;31mValueError\u001b[0m                                Traceback (most recent call last)",
      "\u001b[1;32mc:\\Users\\HanWen\\Downloads\\NTU_VFX_Image_Stitching-main\\NTU_VFX_Image_Stitching-main\\my_img_stitching.ipynb Cell 7'\u001b[0m in \u001b[0;36m<cell line: 1>\u001b[1;34m()\u001b[0m\n\u001b[1;32m----> <a href='vscode-notebook-cell:/c%3A/Users/HanWen/Downloads/NTU_VFX_Image_Stitching-main/NTU_VFX_Image_Stitching-main/my_img_stitching.ipynb#ch0000009?line=0'>1</a>\u001b[0m new_img[s\u001b[39m*\u001b[39;49my_index[:]\u001b[39m/\u001b[39;49mnp\u001b[39m.\u001b[39;49msqrt(np\u001b[39m.\u001b[39;49msquare(x_index[:]) \u001b[39m+\u001b[39;49m f\u001b[39m*\u001b[39;49mf), s\u001b[39m*\u001b[39mnp\u001b[39m.\u001b[39marctan(x_index[:]\u001b[39m/\u001b[39mf)] \u001b[39m=\u001b[39m img[:,:,:]\n\u001b[0;32m      <a href='vscode-notebook-cell:/c%3A/Users/HanWen/Downloads/NTU_VFX_Image_Stitching-main/NTU_VFX_Image_Stitching-main/my_img_stitching.ipynb#ch0000009?line=2'>3</a>\u001b[0m cv2\u001b[39m.\u001b[39mimwrite(\u001b[39m\"\u001b[39m\u001b[39mmy_projection.jpg\u001b[39m\u001b[39m\"\u001b[39m, img)\n",
      "\u001b[1;31mValueError\u001b[0m: operands could not be broadcast together with shapes (3264,) (4912,) "
     ]
    }
   ],
   "source": [
    "new_img[s*y_index[:]/np.sqrt(np.square(x_index[:]) + f*f), s*np.arctan(x_index[:]/f)] = img[:,:,:]\n",
    "\n",
    "cv2.imwrite(\"my_projection.jpg\", img)"
   ]
  },
  {
   "cell_type": "code",
   "execution_count": 23,
   "metadata": {},
   "outputs": [
    {
     "data": {
      "text/plain": [
       "array([[229.52000543, 229.52000543, 229.52000543, ..., 237.46433469,\n",
       "        237.46433469, 237.46433469],\n",
       "       [229.52000543, 229.52000543, 229.52000543, ..., 238.34276938,\n",
       "        238.34276938, 237.46433469],\n",
       "       [229.52000543, 229.52000543, 229.52000543, ..., 237.46433469,\n",
       "        237.46433469, 237.46433469],\n",
       "       ...,\n",
       "       [169.28076269, 169.28076269, 169.28076269, ..., 175.82392074,\n",
       "        176.75587559, 176.75587559],\n",
       "       [168.34327853, 168.34327853, 168.34327853, ..., 174.89126465,\n",
       "        175.82392074, 176.75587559],\n",
       "       [171.15368511, 170.21756586, 170.21756586, ..., 174.89126465,\n",
       "        174.89126465, 175.82392074]])"
      ]
     },
     "execution_count": 23,
     "metadata": {},
     "output_type": "execute_result"
    }
   ],
   "source": []
  },
  {
   "cell_type": "code",
   "execution_count": 21,
   "metadata": {},
   "outputs": [],
   "source": [
    "\n",
    "\n",
    "result_imgs = []\n",
    "for _, img in enumerate(imgs):\n",
    "    gray = cv2.cvtColor(img, cv2.COLOR_BGR2GRAY)\n",
    "    gray = np.float32(gray)\n",
    "    # 這個不能call\n",
    "    dst = cv2.cornerHarris(gray,2,3,0.1)\n",
    "    dst = cv2.dilate(dst,None)\n",
    "    img[dst>0.01*dst.max()] = [0,0,255]\n",
    "    result_imgs.append(img)\n",
    "\n",
    "for i, img in enumerate(result_imgs):\n",
    "    cv2.imwrite(os.path.join('result', f'img{i}.jpg'), img)\n"
   ]
  },
  {
   "cell_type": "code",
   "execution_count": null,
   "metadata": {},
   "outputs": [],
   "source": []
  }
 ],
 "metadata": {
  "interpreter": {
   "hash": "8b524614cc142359dce5b0b7d9bf38fbfdd8295fd6cec8aae83c2d2b8a22ffce"
  },
  "kernelspec": {
   "display_name": "Python 3.8.12 ('HDRenv')",
   "language": "python",
   "name": "python3"
  },
  "language_info": {
   "codemirror_mode": {
    "name": "ipython",
    "version": 3
   },
   "file_extension": ".py",
   "mimetype": "text/x-python",
   "name": "python",
   "nbconvert_exporter": "python",
   "pygments_lexer": "ipython3",
   "version": "3.8.12"
  },
  "orig_nbformat": 4
 },
 "nbformat": 4,
 "nbformat_minor": 2
}
