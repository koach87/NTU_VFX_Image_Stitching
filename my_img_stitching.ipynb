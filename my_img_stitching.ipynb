{
 "cells": [
  {
   "cell_type": "code",
   "execution_count": 51,
   "metadata": {},
   "outputs": [],
   "source": [
    "import cv2\n",
    "import numpy as np\n",
    "import os\n",
    "import glob\n",
    "import math\n",
    "from numpy import linalg as la"
   ]
  },
  {
   "cell_type": "markdown",
   "metadata": {},
   "source": [
    "Parameters"
   ]
  },
  {
   "cell_type": "code",
   "execution_count": 113,
   "metadata": {},
   "outputs": [],
   "source": [
    "# focal length\n",
    "FOCAL_LENGTH = 668\n",
    "# cylinder radius, it's much better to use focal length\n",
    "CYLINDER_RADIUS = FOCAL_LENGTH\n",
    "RANSAC_THRESHHOLD = 2.0\n"
   ]
  },
  {
   "cell_type": "markdown",
   "metadata": {},
   "source": [
    "Get Data from folder"
   ]
  },
  {
   "cell_type": "code",
   "execution_count": 40,
   "metadata": {},
   "outputs": [],
   "source": [
    "imgspath = glob.glob(os.path.join('img/gym/2-2','*.jpg'))\n",
    "imgs = [cv2.imread(i) for i in imgspath]"
   ]
  },
  {
   "cell_type": "code",
   "execution_count": 41,
   "metadata": {},
   "outputs": [
    {
     "data": {
      "text/plain": [
       "(3264, 4912)"
      ]
     },
     "execution_count": 41,
     "metadata": {},
     "output_type": "execute_result"
    }
   ],
   "source": [
    "img = imgs[0]\n",
    "new_img = np.zeros(img.shape)\n",
    "project_index = np.zeros(img.shape[0:2])\n",
    "project_index.shape"
   ]
  },
  {
   "cell_type": "code",
   "execution_count": 107,
   "metadata": {},
   "outputs": [],
   "source": [
    "img = imgs[0]\n",
    "img = cv2.resize(img, (img.shape[1]//10, img.shape[0]//10))\n",
    "new_img = np.zeros(img.shape)\n"
   ]
  },
  {
   "cell_type": "code",
   "execution_count": 105,
   "metadata": {},
   "outputs": [],
   "source": [
    "def project_to_cylinder(img, f = FOCAL_LENGTH, s = CYLINDER_RADIUS):\n",
    "    height, width = img.shape[:2]\n",
    "    cylinder_proj = np.zeros(shape=img.shape, dtype=np.uint8)\n",
    "    \n",
    "    for y in range(height):\n",
    "        py = -y + height//2\n",
    "        for x in range(width):\n",
    "            px = x - width//2\n",
    "            cylinder_proj[-int(s*py/math.sqrt(px**2+f**2) - height//2)][int(s*math.atan(px/f) + width//2)] = img[y][x]\n",
    "    \n",
    "    return cylinder_proj"
   ]
  },
  {
   "cell_type": "code",
   "execution_count": 142,
   "metadata": {},
   "outputs": [],
   "source": [
    "def crop_image_black_edge(img, f = FOCAL_LENGTH, s = CYLINDER_RADIUS):\n",
    "    h, w = img.shape[:2]\n",
    "    top = -int(s*(h//2)/math.sqrt((-w//2)**2+f**2) - h//2)\n",
    "    down = -int(s*(-h//2)/math.sqrt((-w//2)**2+f**2) - h//2)\n",
    "    left = int(s*math.atan((-w//2)/f) + w//2)\n",
    "    right = int(s*math.atan((w//2)/f) + w//2)\n",
    "    crop_img = img[top:down, left:right] # crop 4 sides\n",
    "    # crop_img = img[:, left:right] # only crop 2 sides, left to right\n",
    "\n",
    "    return crop_img"
   ]
  },
  {
   "cell_type": "code",
   "execution_count": 116,
   "metadata": {},
   "outputs": [],
   "source": [
    "# it's better to use random sample\n",
    "def nonRANSAC(mp, th = 2): # mp = match pairs set of all images\n",
    "    best_mp = []\n",
    "    \n",
    "    for i in range(len(mp)): # every pairs of different img img_x & img_x+1\n",
    "        best_vote = 0\n",
    "        best_mp.append(mp[i][0])\n",
    "        for j in range(len(mp[i])): # find the best pair of the two images\n",
    "            vote = 0\n",
    "            temp_pair = np.array(mp[i][:, 0:2])\n",
    "            trans_y = mp[i][j][2] - mp[i][j][0]\n",
    "            trans_x = mp[i][j][3] - mp[i][j][1]\n",
    "            temp_pair[0] += trans_y \n",
    "            temp_pair[1] += trans_x\n",
    "            for k in range(len(temp_pair)):\n",
    "                if(k == j):\n",
    "                    continue\n",
    "                if(la.norm(temp_pair[k]) < th):\n",
    "                    vote += 1\n",
    "\n",
    "            if(vote > best_vote):\n",
    "                best_vote = vote\n",
    "                best_mp[i] = mp[i][j]\n",
    "\n",
    "    return best_mp\n",
    "        "
   ]
  },
  {
   "cell_type": "code",
   "execution_count": 147,
   "metadata": {},
   "outputs": [],
   "source": [
    "#  img2       img1            img2+img1\n",
    "#  _____      _____           _____\n",
    "# |     |    |.    |  __\\    |    _|___   shift = (c,d) - (a,b)\n",
    "# |    .|    |     |     \\   |   |.|   |\n",
    "# |_____|    |_____|  __ /   |___|_|   |\n",
    "#  (c,d)      (a,b)     /        |_____|\n",
    "# \n",
    "# y shift > 0, means img1 move down\n",
    "# x shift > 0, means img1 move right\n",
    "# in our case, our image are counterclockwise and equal size, so x shift must > 0\n",
    "\n",
    "def stitch_image(img1, img2, shift): # img1 may be bigger, img2 is always the same size\n",
    "    img1_padding = [\n",
    "        (shift[0], 0) if shift[0] > 0 else (0, -shift[0]), \n",
    "        (shift[1], 0) if shift[1] > 0 else (0, -shift[1]), \n",
    "        (0, 0)\n",
    "    ]\n",
    "    padded_img1 = np.lib.pad(img1, img1_padding, 'constant', constant_values=0)\n",
    "\n",
    "    # h2p = padded_img1.shape[0] - img2.shape[0]\n",
    "    # w2p = padded_img1.shape[1] - img2.shape[1]\n",
    "    # img2_padding = [\n",
    "    #     (h2p, 0) if shift[0] < 0 else (0, -h2p), \n",
    "    #     (w2p, 0) if shift[1] < 0 else (0, -w2p), \n",
    "    #     (0, 0)\n",
    "    # ]\n",
    "    # padded_img2 = np.lib.pad(img2, img2_padding, 'constant', constant_values=0)\n",
    "\n",
    "\n",
    "    padded_img1[:img2.shape[0], :img2.shape[1]] = img2\n",
    "\n",
    "    return padded_img1\n",
    "\n",
    "    # for i in range(len(match_points)): \n",
    "    #     img_concat = imgs[i+1]\n",
    "\n",
    "    #     img_w = imgs[i].shape[1]\n",
    "    #     for j in match_points[i]:\n",
    "    #         img_concat = cv2.line(img_concat, (j[1], j[0]), (j[3]+img_w, j[2]), (255,0,0), 1)\n",
    "\n",
    "    #     cv2.imwrite(f'result{i}_{i+1}.jpg', img_concat)"
   ]
  },
  {
   "cell_type": "code",
   "execution_count": 121,
   "metadata": {},
   "outputs": [
    {
     "data": {
      "text/plain": [
       "True"
      ]
     },
     "execution_count": 121,
     "metadata": {},
     "output_type": "execute_result"
    }
   ],
   "source": [
    "new_img = project_to_cylinder(img)\n",
    "\n",
    "cv2.imwrite(\"my_projection.jpg\", new_img)"
   ]
  },
  {
   "cell_type": "code",
   "execution_count": 145,
   "metadata": {},
   "outputs": [
    {
     "data": {
      "text/plain": [
       "True"
      ]
     },
     "execution_count": 145,
     "metadata": {},
     "output_type": "execute_result"
    }
   ],
   "source": [
    "crop_img = crop_image_black_edge(new_img)\n",
    "\n",
    "crop_img.shape\n",
    "cv2.imwrite(\"crop.jpg\", crop_img)"
   ]
  },
  {
   "cell_type": "code",
   "execution_count": 146,
   "metadata": {},
   "outputs": [
    {
     "data": {
      "text/plain": [
       "True"
      ]
     },
     "execution_count": 146,
     "metadata": {},
     "output_type": "execute_result"
    }
   ],
   "source": [
    "shift = [50,70]\n",
    "img1_padding = [\n",
    "        (shift[0], 0) if shift[0] > 0 else (0, -shift[0]), \n",
    "        (shift[1], 0) if shift[1] > 0 else (0, -shift[1]), \n",
    "        (0, 0)\n",
    "    ]\n",
    "padded_img1 = np.lib.pad(crop_img, img1_padding, 'constant', constant_values=0)\n",
    "padded_img1[:crop_img.shape[0], :crop_img.shape[1]] = crop_img\n",
    "cv2.imwrite(\"padded_img1.jpg\", padded_img1)"
   ]
  },
  {
   "cell_type": "code",
   "execution_count": 46,
   "metadata": {},
   "outputs": [],
   "source": [
    "\n",
    "\n",
    "# result_imgs = []\n",
    "# for _, img in enumerate(imgs):\n",
    "#     gray = cv2.cvtColor(img, cv2.COLOR_BGR2GRAY)\n",
    "#     gray = np.float32(gray)\n",
    "#     # 這個不能call\n",
    "#     dst = cv2.cornerHarris(gray,2,3,0.1)\n",
    "#     dst = cv2.dilate(dst,None)\n",
    "#     img[dst>0.01*dst.max()] = [0,0,255]\n",
    "#     result_imgs.append(img)\n",
    "\n",
    "# for i, img in enumerate(result_imgs):\n",
    "#     cv2.imwrite(os.path.join('result', f'img{i}.jpg'), img)\n"
   ]
  },
  {
   "cell_type": "code",
   "execution_count": null,
   "metadata": {},
   "outputs": [],
   "source": []
  }
 ],
 "metadata": {
  "interpreter": {
   "hash": "8b524614cc142359dce5b0b7d9bf38fbfdd8295fd6cec8aae83c2d2b8a22ffce"
  },
  "kernelspec": {
   "display_name": "Python 3.8.12 ('HDRenv')",
   "language": "python",
   "name": "python3"
  },
  "language_info": {
   "codemirror_mode": {
    "name": "ipython",
    "version": 3
   },
   "file_extension": ".py",
   "mimetype": "text/x-python",
   "name": "python",
   "nbconvert_exporter": "python",
   "pygments_lexer": "ipython3",
   "version": "3.8.12"
  },
  "orig_nbformat": 4
 },
 "nbformat": 4,
 "nbformat_minor": 2
}
